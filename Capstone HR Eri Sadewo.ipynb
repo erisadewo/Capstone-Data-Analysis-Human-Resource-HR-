{
 "cells": [
  {
   "cell_type": "markdown",
   "id": "88e212d8",
   "metadata": {},
   "source": [
    "# Data Understanding\n"
   ]
  },
  {
   "cell_type": "markdown",
   "id": "fbf90ded",
   "metadata": {},
   "source": [
    "## Context\n",
    "\n",
    "Sebuah perusahaan memberikan data Human Resource untuk mengetahui kinerja karyawannya. Dari data yang diberikan, perusahaan ingin mendapatkan insight untuk menganalisa karyawannya agar dapat di evaluasi, sehingga nantinya mereka dapat menerapkan kebijakan yang tepat sasaran."
   ]
  },
  {
   "cell_type": "markdown",
   "id": "c1cad742",
   "metadata": {},
   "source": [
    "## Informasi Database\n",
    "\n",
    "sumber database : https://drive.google.com/drive/folders/1G9Q2sohMFVes7NCHaUHcuAAjlOybBYJG\n",
    "\n",
    "Database yang dimiliki memiliki 7 Tabel, yaitu :\n",
    "1. Countries : Menyimpan informasi tentang data nama negara.\n",
    "2. Departments : Menyimpan informasi tentang data macam macam departemen.\n",
    "3. Employees : Menyimpan semua informasi karyawan serta struktur organisasi.\n",
    "4. Job history : Menyimpan semua informasi karyawan mengenai sejarah pekerjaan.\n",
    "5. Job : Menyimpan semua informasi karyawan mengenai jabatan pekerjaan dan range gajinya.\n",
    "6. Locations : Menyimpan informasi tentang data lokasi.\n",
    "7. Regions : Menyimpan informasi tentang data nama daerah.\n"
   ]
  },
  {
   "cell_type": "markdown",
   "id": "8a98ff67",
   "metadata": {},
   "source": [
    "## Import  Database"
   ]
  },
  {
   "cell_type": "code",
   "execution_count": 1,
   "id": "1fd3001d",
   "metadata": {},
   "outputs": [],
   "source": [
    "import pandas as pd\n",
    "\n",
    "import mysql.connector as sqlcon\n",
    "\n",
    "mydb = sqlcon.connect(\n",
    "    host = 'localhost',\n",
    "    user = 'root',\n",
    "    passwd = 'Rahasiadon9',\n",
    "    database = 'HR'\n",
    ")"
   ]
  },
  {
   "cell_type": "code",
   "execution_count": 2,
   "id": "c164e091",
   "metadata": {},
   "outputs": [],
   "source": [
    "## querry function\n",
    "\n",
    "curs = mydb.cursor()\n",
    "\n",
    "def sql_table (query) :\n",
    "    curs.execute (query)\n",
    "    result = curs.fetchall()\n",
    "    sql = pd.DataFrame(result, columns=curs.column_names)\n",
    "    return sql"
   ]
  },
  {
   "cell_type": "markdown",
   "id": "fbe2090c",
   "metadata": {},
   "source": [
    "###### Memilih Kolom Table Yang Sesuai Untuk Dianalisa\n",
    "\n",
    "data yang dipilihi adalah data yang akan digunakan untuk dianalisa dan data tersebut diambil dari dua table dan digabungkan, table yang digunakan adalah\n",
    "- table `employees`, memiliki kolom :\n",
    "1. `First_Name`\n",
    "2. `Last_Name`\n",
    "3. `Job_ID`\n",
    "4. `Salary`\n",
    "5. `Commission_PCT`\n",
    "\n",
    "- table `Jobs`, memiliki kolom :\n",
    "1. `Job_Title`\n",
    "2. `Min_Salary`\n",
    "3. `Max_Salary`\n"
   ]
  },
  {
   "cell_type": "code",
   "execution_count": 3,
   "id": "1f4b1456",
   "metadata": {},
   "outputs": [
    {
     "data": {
      "text/html": [
       "<div>\n",
       "<style scoped>\n",
       "    .dataframe tbody tr th:only-of-type {\n",
       "        vertical-align: middle;\n",
       "    }\n",
       "\n",
       "    .dataframe tbody tr th {\n",
       "        vertical-align: top;\n",
       "    }\n",
       "\n",
       "    .dataframe thead th {\n",
       "        text-align: right;\n",
       "    }\n",
       "</style>\n",
       "<table border=\"1\" class=\"dataframe\">\n",
       "  <thead>\n",
       "    <tr style=\"text-align: right;\">\n",
       "      <th></th>\n",
       "      <th>First_Name</th>\n",
       "      <th>Last_Name</th>\n",
       "      <th>Job_ID</th>\n",
       "      <th>Salary</th>\n",
       "      <th>Commission_PCT</th>\n",
       "      <th>Job_Title</th>\n",
       "      <th>Min_Salary</th>\n",
       "      <th>Max_Salary</th>\n",
       "    </tr>\n",
       "  </thead>\n",
       "  <tbody>\n",
       "    <tr>\n",
       "      <th>0</th>\n",
       "      <td>Steven</td>\n",
       "      <td>King</td>\n",
       "      <td>AD_PRES</td>\n",
       "      <td>24000.00</td>\n",
       "      <td>0.00</td>\n",
       "      <td>President</td>\n",
       "      <td>20000</td>\n",
       "      <td>40000</td>\n",
       "    </tr>\n",
       "    <tr>\n",
       "      <th>1</th>\n",
       "      <td>Neena</td>\n",
       "      <td>Kochhar</td>\n",
       "      <td>AD_VP</td>\n",
       "      <td>17000.00</td>\n",
       "      <td>0.00</td>\n",
       "      <td>Administration Vice President</td>\n",
       "      <td>15000</td>\n",
       "      <td>30000</td>\n",
       "    </tr>\n",
       "    <tr>\n",
       "      <th>2</th>\n",
       "      <td>Lex</td>\n",
       "      <td>De Haan</td>\n",
       "      <td>AD_VP</td>\n",
       "      <td>17000.00</td>\n",
       "      <td>0.00</td>\n",
       "      <td>Administration Vice President</td>\n",
       "      <td>15000</td>\n",
       "      <td>30000</td>\n",
       "    </tr>\n",
       "    <tr>\n",
       "      <th>3</th>\n",
       "      <td>Alexander</td>\n",
       "      <td>Hunold</td>\n",
       "      <td>IT_PROG</td>\n",
       "      <td>9000.00</td>\n",
       "      <td>0.00</td>\n",
       "      <td>Programmer</td>\n",
       "      <td>4000</td>\n",
       "      <td>10000</td>\n",
       "    </tr>\n",
       "    <tr>\n",
       "      <th>4</th>\n",
       "      <td>Bruce</td>\n",
       "      <td>Ernst</td>\n",
       "      <td>IT_PROG</td>\n",
       "      <td>6000.00</td>\n",
       "      <td>0.00</td>\n",
       "      <td>Programmer</td>\n",
       "      <td>4000</td>\n",
       "      <td>10000</td>\n",
       "    </tr>\n",
       "  </tbody>\n",
       "</table>\n",
       "</div>"
      ],
      "text/plain": [
       "  First_Name Last_Name   Job_ID    Salary Commission_PCT  \\\n",
       "0     Steven      King  AD_PRES  24000.00           0.00   \n",
       "1      Neena   Kochhar    AD_VP  17000.00           0.00   \n",
       "2        Lex   De Haan    AD_VP  17000.00           0.00   \n",
       "3  Alexander    Hunold  IT_PROG   9000.00           0.00   \n",
       "4      Bruce     Ernst  IT_PROG   6000.00           0.00   \n",
       "\n",
       "                       Job_Title Min_Salary Max_Salary  \n",
       "0                      President      20000      40000  \n",
       "1  Administration Vice President      15000      30000  \n",
       "2  Administration Vice President      15000      30000  \n",
       "3                     Programmer       4000      10000  \n",
       "4                     Programmer       4000      10000  "
      ]
     },
     "execution_count": 3,
     "metadata": {},
     "output_type": "execute_result"
    }
   ],
   "source": [
    "## query\n",
    "\n",
    "tabel = sql_table('''\n",
    "select e.First_Name, e.Last_Name, e.Job_ID, e.Salary, e.Commission_PCT,\n",
    "j.Job_Title, j.Min_Salary, j.Max_Salary from employees e LEFT JOIN Jobs j on e.Job_Id = j.Job_Id''')\n",
    "tabel.head()"
   ]
  },
  {
   "cell_type": "markdown",
   "id": "0a6bba4a",
   "metadata": {},
   "source": [
    "## Data Anomali"
   ]
  },
  {
   "cell_type": "code",
   "execution_count": 4,
   "id": "80e7366c",
   "metadata": {},
   "outputs": [
    {
     "name": "stdout",
     "output_type": "stream",
     "text": [
      "<class 'pandas.core.frame.DataFrame'>\n",
      "RangeIndex: 107 entries, 0 to 106\n",
      "Data columns (total 8 columns):\n",
      " #   Column          Non-Null Count  Dtype \n",
      "---  ------          --------------  ----- \n",
      " 0   First_Name      107 non-null    object\n",
      " 1   Last_Name       107 non-null    object\n",
      " 2   Job_ID          107 non-null    object\n",
      " 3   Salary          107 non-null    object\n",
      " 4   Commission_PCT  107 non-null    object\n",
      " 5   Job_Title       107 non-null    object\n",
      " 6   Min_Salary      107 non-null    object\n",
      " 7   Max_Salary      107 non-null    object\n",
      "dtypes: object(8)\n",
      "memory usage: 6.8+ KB\n"
     ]
    }
   ],
   "source": [
    "## cek info dari table\n",
    "\n",
    "tabel.info()"
   ]
  },
  {
   "cell_type": "markdown",
   "id": "79ca381d",
   "metadata": {},
   "source": [
    "##### Mengubah tipe data yang salah\n"
   ]
  },
  {
   "cell_type": "code",
   "execution_count": 7,
   "id": "7ef2b61d",
   "metadata": {},
   "outputs": [],
   "source": [
    "tabel['Salary'] = pd.to_numeric(tabel['Salary'])\n",
    "tabel['Commission_PCT'] = pd.to_numeric(tabel['Commission_PCT'])"
   ]
  },
  {
   "cell_type": "code",
   "execution_count": 8,
   "id": "6228c49a",
   "metadata": {},
   "outputs": [
    {
     "data": {
      "text/plain": [
       "First_Name         object\n",
       "Last_Name          object\n",
       "Job_ID             object\n",
       "Salary            float64\n",
       "Commission_PCT    float64\n",
       "Job_Title          object\n",
       "Min_Salary         object\n",
       "Max_Salary         object\n",
       "dtype: object"
      ]
     },
     "execution_count": 8,
     "metadata": {},
     "output_type": "execute_result"
    }
   ],
   "source": [
    "## recheck data type\n",
    "\n",
    "tabel.dtypes"
   ]
  },
  {
   "cell_type": "markdown",
   "id": "f9fc7dbe",
   "metadata": {},
   "source": [
    "###### Check Missing Value"
   ]
  },
  {
   "cell_type": "code",
   "execution_count": 9,
   "id": "9a4c55c2",
   "metadata": {},
   "outputs": [
    {
     "data": {
      "text/plain": [
       "First_Name        0\n",
       "Last_Name         0\n",
       "Job_ID            0\n",
       "Salary            0\n",
       "Commission_PCT    0\n",
       "Job_Title         0\n",
       "Min_Salary        0\n",
       "Max_Salary        0\n",
       "dtype: int64"
      ]
     },
     "execution_count": 9,
     "metadata": {},
     "output_type": "execute_result"
    }
   ],
   "source": [
    "tabel.isna().sum()"
   ]
  },
  {
   "cell_type": "markdown",
   "id": "cd1fa1c6",
   "metadata": {},
   "source": [
    "###### tidak ada missing vallue\n",
    "karena tidak ada missing vallue dari kolom yang digabungkan, maka tidak perlu drop kolom atau handling missing value"
   ]
  },
  {
   "cell_type": "code",
   "execution_count": 10,
   "id": "7fa1c8be",
   "metadata": {},
   "outputs": [
    {
     "data": {
      "text/html": [
       "<div>\n",
       "<style scoped>\n",
       "    .dataframe tbody tr th:only-of-type {\n",
       "        vertical-align: middle;\n",
       "    }\n",
       "\n",
       "    .dataframe tbody tr th {\n",
       "        vertical-align: top;\n",
       "    }\n",
       "\n",
       "    .dataframe thead th {\n",
       "        text-align: right;\n",
       "    }\n",
       "</style>\n",
       "<table border=\"1\" class=\"dataframe\">\n",
       "  <thead>\n",
       "    <tr style=\"text-align: right;\">\n",
       "      <th></th>\n",
       "      <th>First_Name</th>\n",
       "      <th>Last_Name</th>\n",
       "      <th>Job_ID</th>\n",
       "      <th>Salary</th>\n",
       "      <th>Commission_PCT</th>\n",
       "      <th>Job_Title</th>\n",
       "      <th>Min_Salary</th>\n",
       "      <th>Max_Salary</th>\n",
       "    </tr>\n",
       "  </thead>\n",
       "  <tbody>\n",
       "  </tbody>\n",
       "</table>\n",
       "</div>"
      ],
      "text/plain": [
       "Empty DataFrame\n",
       "Columns: [First_Name, Last_Name, Job_ID, Salary, Commission_PCT, Job_Title, Min_Salary, Max_Salary]\n",
       "Index: []"
      ]
     },
     "execution_count": 10,
     "metadata": {},
     "output_type": "execute_result"
    }
   ],
   "source": [
    "## chcek data duplicate \n",
    "tabel[tabel.duplicated()]"
   ]
  },
  {
   "cell_type": "code",
   "execution_count": 11,
   "id": "010d3a3b",
   "metadata": {},
   "outputs": [],
   "source": [
    "## tidak ada duplikasi data"
   ]
  },
  {
   "cell_type": "markdown",
   "id": "acdeb0ce",
   "metadata": {},
   "source": [
    "###### Tambah Kolom Baru / penambahan feature 'Komisi'"
   ]
  },
  {
   "cell_type": "code",
   "execution_count": 12,
   "id": "1bd92a07",
   "metadata": {},
   "outputs": [
    {
     "data": {
      "text/html": [
       "<div>\n",
       "<style scoped>\n",
       "    .dataframe tbody tr th:only-of-type {\n",
       "        vertical-align: middle;\n",
       "    }\n",
       "\n",
       "    .dataframe tbody tr th {\n",
       "        vertical-align: top;\n",
       "    }\n",
       "\n",
       "    .dataframe thead th {\n",
       "        text-align: right;\n",
       "    }\n",
       "</style>\n",
       "<table border=\"1\" class=\"dataframe\">\n",
       "  <thead>\n",
       "    <tr style=\"text-align: right;\">\n",
       "      <th></th>\n",
       "      <th>First_Name</th>\n",
       "      <th>Last_Name</th>\n",
       "      <th>Job_ID</th>\n",
       "      <th>Salary</th>\n",
       "      <th>Commission_PCT</th>\n",
       "      <th>Job_Title</th>\n",
       "      <th>Min_Salary</th>\n",
       "      <th>Max_Salary</th>\n",
       "      <th>Komisi</th>\n",
       "    </tr>\n",
       "  </thead>\n",
       "  <tbody>\n",
       "    <tr>\n",
       "      <th>0</th>\n",
       "      <td>Steven</td>\n",
       "      <td>King</td>\n",
       "      <td>AD_PRES</td>\n",
       "      <td>24000.0</td>\n",
       "      <td>0.0</td>\n",
       "      <td>President</td>\n",
       "      <td>20000</td>\n",
       "      <td>40000</td>\n",
       "      <td>0.0</td>\n",
       "    </tr>\n",
       "    <tr>\n",
       "      <th>1</th>\n",
       "      <td>Neena</td>\n",
       "      <td>Kochhar</td>\n",
       "      <td>AD_VP</td>\n",
       "      <td>17000.0</td>\n",
       "      <td>0.0</td>\n",
       "      <td>Administration Vice President</td>\n",
       "      <td>15000</td>\n",
       "      <td>30000</td>\n",
       "      <td>0.0</td>\n",
       "    </tr>\n",
       "    <tr>\n",
       "      <th>2</th>\n",
       "      <td>Lex</td>\n",
       "      <td>De Haan</td>\n",
       "      <td>AD_VP</td>\n",
       "      <td>17000.0</td>\n",
       "      <td>0.0</td>\n",
       "      <td>Administration Vice President</td>\n",
       "      <td>15000</td>\n",
       "      <td>30000</td>\n",
       "      <td>0.0</td>\n",
       "    </tr>\n",
       "    <tr>\n",
       "      <th>3</th>\n",
       "      <td>Alexander</td>\n",
       "      <td>Hunold</td>\n",
       "      <td>IT_PROG</td>\n",
       "      <td>9000.0</td>\n",
       "      <td>0.0</td>\n",
       "      <td>Programmer</td>\n",
       "      <td>4000</td>\n",
       "      <td>10000</td>\n",
       "      <td>0.0</td>\n",
       "    </tr>\n",
       "    <tr>\n",
       "      <th>4</th>\n",
       "      <td>Bruce</td>\n",
       "      <td>Ernst</td>\n",
       "      <td>IT_PROG</td>\n",
       "      <td>6000.0</td>\n",
       "      <td>0.0</td>\n",
       "      <td>Programmer</td>\n",
       "      <td>4000</td>\n",
       "      <td>10000</td>\n",
       "      <td>0.0</td>\n",
       "    </tr>\n",
       "    <tr>\n",
       "      <th>...</th>\n",
       "      <td>...</td>\n",
       "      <td>...</td>\n",
       "      <td>...</td>\n",
       "      <td>...</td>\n",
       "      <td>...</td>\n",
       "      <td>...</td>\n",
       "      <td>...</td>\n",
       "      <td>...</td>\n",
       "      <td>...</td>\n",
       "    </tr>\n",
       "    <tr>\n",
       "      <th>102</th>\n",
       "      <td>Pat</td>\n",
       "      <td>Fay</td>\n",
       "      <td>MK_REP</td>\n",
       "      <td>6000.0</td>\n",
       "      <td>0.0</td>\n",
       "      <td>Marketing Representative</td>\n",
       "      <td>4000</td>\n",
       "      <td>9000</td>\n",
       "      <td>0.0</td>\n",
       "    </tr>\n",
       "    <tr>\n",
       "      <th>103</th>\n",
       "      <td>Susan</td>\n",
       "      <td>Mavris</td>\n",
       "      <td>HR_REP</td>\n",
       "      <td>6500.0</td>\n",
       "      <td>0.0</td>\n",
       "      <td>Human Resources Representative</td>\n",
       "      <td>4000</td>\n",
       "      <td>9000</td>\n",
       "      <td>0.0</td>\n",
       "    </tr>\n",
       "    <tr>\n",
       "      <th>104</th>\n",
       "      <td>Hermann</td>\n",
       "      <td>Baer</td>\n",
       "      <td>PR_REP</td>\n",
       "      <td>10000.0</td>\n",
       "      <td>0.0</td>\n",
       "      <td>Public Relations Representative</td>\n",
       "      <td>4500</td>\n",
       "      <td>10500</td>\n",
       "      <td>0.0</td>\n",
       "    </tr>\n",
       "    <tr>\n",
       "      <th>105</th>\n",
       "      <td>Shelley</td>\n",
       "      <td>Higgins</td>\n",
       "      <td>AC_MGR</td>\n",
       "      <td>12000.0</td>\n",
       "      <td>0.0</td>\n",
       "      <td>Accounting Manager</td>\n",
       "      <td>8200</td>\n",
       "      <td>16000</td>\n",
       "      <td>0.0</td>\n",
       "    </tr>\n",
       "    <tr>\n",
       "      <th>106</th>\n",
       "      <td>William</td>\n",
       "      <td>Gietz</td>\n",
       "      <td>AC_ACCOUNT</td>\n",
       "      <td>8300.0</td>\n",
       "      <td>0.0</td>\n",
       "      <td>Public Accountant</td>\n",
       "      <td>4200</td>\n",
       "      <td>9000</td>\n",
       "      <td>0.0</td>\n",
       "    </tr>\n",
       "  </tbody>\n",
       "</table>\n",
       "<p>107 rows × 9 columns</p>\n",
       "</div>"
      ],
      "text/plain": [
       "    First_Name Last_Name      Job_ID   Salary  Commission_PCT  \\\n",
       "0       Steven      King     AD_PRES  24000.0             0.0   \n",
       "1        Neena   Kochhar       AD_VP  17000.0             0.0   \n",
       "2          Lex   De Haan       AD_VP  17000.0             0.0   \n",
       "3    Alexander    Hunold     IT_PROG   9000.0             0.0   \n",
       "4        Bruce     Ernst     IT_PROG   6000.0             0.0   \n",
       "..         ...       ...         ...      ...             ...   \n",
       "102        Pat       Fay      MK_REP   6000.0             0.0   \n",
       "103      Susan    Mavris      HR_REP   6500.0             0.0   \n",
       "104    Hermann      Baer      PR_REP  10000.0             0.0   \n",
       "105    Shelley   Higgins      AC_MGR  12000.0             0.0   \n",
       "106    William     Gietz  AC_ACCOUNT   8300.0             0.0   \n",
       "\n",
       "                           Job_Title Min_Salary Max_Salary  Komisi  \n",
       "0                          President      20000      40000     0.0  \n",
       "1      Administration Vice President      15000      30000     0.0  \n",
       "2      Administration Vice President      15000      30000     0.0  \n",
       "3                         Programmer       4000      10000     0.0  \n",
       "4                         Programmer       4000      10000     0.0  \n",
       "..                               ...        ...        ...     ...  \n",
       "102         Marketing Representative       4000       9000     0.0  \n",
       "103   Human Resources Representative       4000       9000     0.0  \n",
       "104  Public Relations Representative       4500      10500     0.0  \n",
       "105               Accounting Manager       8200      16000     0.0  \n",
       "106                Public Accountant       4200       9000     0.0  \n",
       "\n",
       "[107 rows x 9 columns]"
      ]
     },
     "execution_count": 12,
     "metadata": {},
     "output_type": "execute_result"
    }
   ],
   "source": [
    "tabel['Komisi']=tabel['Commission_PCT'] * tabel['Salary']\n",
    "tabel"
   ]
  },
  {
   "cell_type": "code",
   "execution_count": 13,
   "id": "49a61baa",
   "metadata": {},
   "outputs": [
    {
     "data": {
      "text/html": [
       "<div>\n",
       "<style scoped>\n",
       "    .dataframe tbody tr th:only-of-type {\n",
       "        vertical-align: middle;\n",
       "    }\n",
       "\n",
       "    .dataframe tbody tr th {\n",
       "        vertical-align: top;\n",
       "    }\n",
       "\n",
       "    .dataframe thead th {\n",
       "        text-align: right;\n",
       "    }\n",
       "</style>\n",
       "<table border=\"1\" class=\"dataframe\">\n",
       "  <thead>\n",
       "    <tr style=\"text-align: right;\">\n",
       "      <th></th>\n",
       "      <th>Data Features</th>\n",
       "      <th>Data Types</th>\n",
       "      <th>Null</th>\n",
       "      <th>Null Percentage</th>\n",
       "      <th>Unique</th>\n",
       "      <th>Unique Sample</th>\n",
       "    </tr>\n",
       "  </thead>\n",
       "  <tbody>\n",
       "    <tr>\n",
       "      <th>0</th>\n",
       "      <td>First_Name</td>\n",
       "      <td>object</td>\n",
       "      <td>0</td>\n",
       "      <td>0.0</td>\n",
       "      <td>91</td>\n",
       "      <td>[Kimberely, Jean]</td>\n",
       "    </tr>\n",
       "    <tr>\n",
       "      <th>1</th>\n",
       "      <td>Last_Name</td>\n",
       "      <td>object</td>\n",
       "      <td>0</td>\n",
       "      <td>0.0</td>\n",
       "      <td>102</td>\n",
       "      <td>[Davies, Sullivan]</td>\n",
       "    </tr>\n",
       "    <tr>\n",
       "      <th>2</th>\n",
       "      <td>Job_ID</td>\n",
       "      <td>object</td>\n",
       "      <td>0</td>\n",
       "      <td>0.0</td>\n",
       "      <td>19</td>\n",
       "      <td>[SH_CLERK, FI_MGR]</td>\n",
       "    </tr>\n",
       "    <tr>\n",
       "      <th>3</th>\n",
       "      <td>Salary</td>\n",
       "      <td>float64</td>\n",
       "      <td>0</td>\n",
       "      <td>0.0</td>\n",
       "      <td>57</td>\n",
       "      <td>[2900.0, 3100.0]</td>\n",
       "    </tr>\n",
       "    <tr>\n",
       "      <th>4</th>\n",
       "      <td>Commission_PCT</td>\n",
       "      <td>float64</td>\n",
       "      <td>0</td>\n",
       "      <td>0.0</td>\n",
       "      <td>8</td>\n",
       "      <td>[0.0, 0.0]</td>\n",
       "    </tr>\n",
       "    <tr>\n",
       "      <th>5</th>\n",
       "      <td>Job_Title</td>\n",
       "      <td>object</td>\n",
       "      <td>0</td>\n",
       "      <td>0.0</td>\n",
       "      <td>19</td>\n",
       "      <td>[Sales Representative, Purchasing Clerk]</td>\n",
       "    </tr>\n",
       "    <tr>\n",
       "      <th>6</th>\n",
       "      <td>Min_Salary</td>\n",
       "      <td>object</td>\n",
       "      <td>0</td>\n",
       "      <td>0.0</td>\n",
       "      <td>14</td>\n",
       "      <td>[2500, 3000]</td>\n",
       "    </tr>\n",
       "    <tr>\n",
       "      <th>7</th>\n",
       "      <td>Max_Salary</td>\n",
       "      <td>object</td>\n",
       "      <td>0</td>\n",
       "      <td>0.0</td>\n",
       "      <td>13</td>\n",
       "      <td>[5500, 5500]</td>\n",
       "    </tr>\n",
       "    <tr>\n",
       "      <th>8</th>\n",
       "      <td>Komisi</td>\n",
       "      <td>float64</td>\n",
       "      <td>0</td>\n",
       "      <td>0.0</td>\n",
       "      <td>32</td>\n",
       "      <td>[0.0, 0.0]</td>\n",
       "    </tr>\n",
       "  </tbody>\n",
       "</table>\n",
       "</div>"
      ],
      "text/plain": [
       "    Data Features Data Types  Null  Null Percentage  Unique  \\\n",
       "0      First_Name     object     0              0.0      91   \n",
       "1       Last_Name     object     0              0.0     102   \n",
       "2          Job_ID     object     0              0.0      19   \n",
       "3          Salary    float64     0              0.0      57   \n",
       "4  Commission_PCT    float64     0              0.0       8   \n",
       "5       Job_Title     object     0              0.0      19   \n",
       "6      Min_Salary     object     0              0.0      14   \n",
       "7      Max_Salary     object     0              0.0      13   \n",
       "8          Komisi    float64     0              0.0      32   \n",
       "\n",
       "                              Unique Sample  \n",
       "0                         [Kimberely, Jean]  \n",
       "1                        [Davies, Sullivan]  \n",
       "2                        [SH_CLERK, FI_MGR]  \n",
       "3                          [2900.0, 3100.0]  \n",
       "4                                [0.0, 0.0]  \n",
       "5  [Sales Representative, Purchasing Clerk]  \n",
       "6                              [2500, 3000]  \n",
       "7                              [5500, 5500]  \n",
       "8                                [0.0, 0.0]  "
      ]
     },
     "execution_count": 13,
     "metadata": {},
     "output_type": "execute_result"
    }
   ],
   "source": [
    "### describe dari data yang dipilih\n",
    "\n",
    "dataDesc = []\n",
    "for i in tabel.columns:\n",
    "    dataDesc.append([\n",
    "        i,\n",
    "        tabel[i].dtypes,\n",
    "        tabel[i].isna().sum(),\n",
    "        round((tabel[i].isna().sum() / len(tabel)), 2),\n",
    "        tabel[i].nunique(),\n",
    "        tabel[i].sample(2).values\n",
    "    ])\n",
    "\n",
    "pd.DataFrame(dataDesc, columns=[\n",
    "    \"Data Features\",\n",
    "    \"Data Types\",\n",
    "    \"Null\",\n",
    "    \"Null Percentage\",\n",
    "    \"Unique\",\n",
    "    \"Unique Sample\"\n",
    "])"
   ]
  },
  {
   "cell_type": "markdown",
   "id": "d0e2aa8d",
   "metadata": {},
   "source": [
    "###### Check Outliers"
   ]
  },
  {
   "cell_type": "code",
   "execution_count": 14,
   "id": "51fbd7ec",
   "metadata": {},
   "outputs": [
    {
     "data": {
      "text/html": [
       "<div>\n",
       "<style scoped>\n",
       "    .dataframe tbody tr th:only-of-type {\n",
       "        vertical-align: middle;\n",
       "    }\n",
       "\n",
       "    .dataframe tbody tr th {\n",
       "        vertical-align: top;\n",
       "    }\n",
       "\n",
       "    .dataframe thead th {\n",
       "        text-align: right;\n",
       "    }\n",
       "</style>\n",
       "<table border=\"1\" class=\"dataframe\">\n",
       "  <thead>\n",
       "    <tr style=\"text-align: right;\">\n",
       "      <th></th>\n",
       "      <th>Salary</th>\n",
       "      <th>Commission_PCT</th>\n",
       "      <th>Komisi</th>\n",
       "    </tr>\n",
       "  </thead>\n",
       "  <tbody>\n",
       "    <tr>\n",
       "      <th>count</th>\n",
       "      <td>107.000000</td>\n",
       "      <td>107.000000</td>\n",
       "      <td>107.000000</td>\n",
       "    </tr>\n",
       "    <tr>\n",
       "      <th>mean</th>\n",
       "      <td>6461.682243</td>\n",
       "      <td>0.072897</td>\n",
       "      <td>688.691589</td>\n",
       "    </tr>\n",
       "    <tr>\n",
       "      <th>std</th>\n",
       "      <td>3909.365746</td>\n",
       "      <td>0.115595</td>\n",
       "      <td>1191.362653</td>\n",
       "    </tr>\n",
       "    <tr>\n",
       "      <th>min</th>\n",
       "      <td>2100.000000</td>\n",
       "      <td>0.000000</td>\n",
       "      <td>0.000000</td>\n",
       "    </tr>\n",
       "    <tr>\n",
       "      <th>25%</th>\n",
       "      <td>3100.000000</td>\n",
       "      <td>0.000000</td>\n",
       "      <td>0.000000</td>\n",
       "    </tr>\n",
       "    <tr>\n",
       "      <th>50%</th>\n",
       "      <td>6200.000000</td>\n",
       "      <td>0.000000</td>\n",
       "      <td>0.000000</td>\n",
       "    </tr>\n",
       "    <tr>\n",
       "      <th>75%</th>\n",
       "      <td>8900.000000</td>\n",
       "      <td>0.150000</td>\n",
       "      <td>1072.500000</td>\n",
       "    </tr>\n",
       "    <tr>\n",
       "      <th>max</th>\n",
       "      <td>24000.000000</td>\n",
       "      <td>0.400000</td>\n",
       "      <td>5600.000000</td>\n",
       "    </tr>\n",
       "  </tbody>\n",
       "</table>\n",
       "</div>"
      ],
      "text/plain": [
       "             Salary  Commission_PCT       Komisi\n",
       "count    107.000000      107.000000   107.000000\n",
       "mean    6461.682243        0.072897   688.691589\n",
       "std     3909.365746        0.115595  1191.362653\n",
       "min     2100.000000        0.000000     0.000000\n",
       "25%     3100.000000        0.000000     0.000000\n",
       "50%     6200.000000        0.000000     0.000000\n",
       "75%     8900.000000        0.150000  1072.500000\n",
       "max    24000.000000        0.400000  5600.000000"
      ]
     },
     "execution_count": 14,
     "metadata": {},
     "output_type": "execute_result"
    }
   ],
   "source": [
    "tabel.describe()"
   ]
  },
  {
   "cell_type": "code",
   "execution_count": 15,
   "id": "8279a5db",
   "metadata": {},
   "outputs": [
    {
     "data": {
      "text/html": [
       "<div>\n",
       "<style scoped>\n",
       "    .dataframe tbody tr th:only-of-type {\n",
       "        vertical-align: middle;\n",
       "    }\n",
       "\n",
       "    .dataframe tbody tr th {\n",
       "        vertical-align: top;\n",
       "    }\n",
       "\n",
       "    .dataframe thead th {\n",
       "        text-align: right;\n",
       "    }\n",
       "</style>\n",
       "<table border=\"1\" class=\"dataframe\">\n",
       "  <thead>\n",
       "    <tr style=\"text-align: right;\">\n",
       "      <th></th>\n",
       "      <th>First_Name</th>\n",
       "      <th>Last_Name</th>\n",
       "      <th>Job_ID</th>\n",
       "      <th>Salary</th>\n",
       "      <th>Commission_PCT</th>\n",
       "      <th>Job_Title</th>\n",
       "      <th>Min_Salary</th>\n",
       "      <th>Max_Salary</th>\n",
       "      <th>Komisi</th>\n",
       "    </tr>\n",
       "  </thead>\n",
       "  <tbody>\n",
       "    <tr>\n",
       "      <th>45</th>\n",
       "      <td>John</td>\n",
       "      <td>Russell</td>\n",
       "      <td>SA_MAN</td>\n",
       "      <td>14000.0</td>\n",
       "      <td>0.40</td>\n",
       "      <td>Sales Manager</td>\n",
       "      <td>10000</td>\n",
       "      <td>20000</td>\n",
       "      <td>5600.0</td>\n",
       "    </tr>\n",
       "    <tr>\n",
       "      <th>46</th>\n",
       "      <td>Karen</td>\n",
       "      <td>Partners</td>\n",
       "      <td>SA_MAN</td>\n",
       "      <td>13500.0</td>\n",
       "      <td>0.30</td>\n",
       "      <td>Sales Manager</td>\n",
       "      <td>10000</td>\n",
       "      <td>20000</td>\n",
       "      <td>4050.0</td>\n",
       "    </tr>\n",
       "    <tr>\n",
       "      <th>47</th>\n",
       "      <td>Alberto</td>\n",
       "      <td>Errazuriz</td>\n",
       "      <td>SA_MAN</td>\n",
       "      <td>12000.0</td>\n",
       "      <td>0.30</td>\n",
       "      <td>Sales Manager</td>\n",
       "      <td>10000</td>\n",
       "      <td>20000</td>\n",
       "      <td>3600.0</td>\n",
       "    </tr>\n",
       "    <tr>\n",
       "      <th>48</th>\n",
       "      <td>Gerald</td>\n",
       "      <td>Cambrault</td>\n",
       "      <td>SA_MAN</td>\n",
       "      <td>11000.0</td>\n",
       "      <td>0.30</td>\n",
       "      <td>Sales Manager</td>\n",
       "      <td>10000</td>\n",
       "      <td>20000</td>\n",
       "      <td>3300.0</td>\n",
       "    </tr>\n",
       "    <tr>\n",
       "      <th>50</th>\n",
       "      <td>Peter</td>\n",
       "      <td>Tucker</td>\n",
       "      <td>SA_REP</td>\n",
       "      <td>10000.0</td>\n",
       "      <td>0.30</td>\n",
       "      <td>Sales Representative</td>\n",
       "      <td>6000</td>\n",
       "      <td>12000</td>\n",
       "      <td>3000.0</td>\n",
       "    </tr>\n",
       "    <tr>\n",
       "      <th>56</th>\n",
       "      <td>Janette</td>\n",
       "      <td>King</td>\n",
       "      <td>SA_REP</td>\n",
       "      <td>10000.0</td>\n",
       "      <td>0.35</td>\n",
       "      <td>Sales Representative</td>\n",
       "      <td>6000</td>\n",
       "      <td>12000</td>\n",
       "      <td>3500.0</td>\n",
       "    </tr>\n",
       "    <tr>\n",
       "      <th>57</th>\n",
       "      <td>Patrick</td>\n",
       "      <td>Sully</td>\n",
       "      <td>SA_REP</td>\n",
       "      <td>9500.0</td>\n",
       "      <td>0.35</td>\n",
       "      <td>Sales Representative</td>\n",
       "      <td>6000</td>\n",
       "      <td>12000</td>\n",
       "      <td>3325.0</td>\n",
       "    </tr>\n",
       "    <tr>\n",
       "      <th>58</th>\n",
       "      <td>Allan</td>\n",
       "      <td>McEwen</td>\n",
       "      <td>SA_REP</td>\n",
       "      <td>9000.0</td>\n",
       "      <td>0.35</td>\n",
       "      <td>Sales Representative</td>\n",
       "      <td>6000</td>\n",
       "      <td>12000</td>\n",
       "      <td>3150.0</td>\n",
       "    </tr>\n",
       "    <tr>\n",
       "      <th>68</th>\n",
       "      <td>Lisa</td>\n",
       "      <td>Ozer</td>\n",
       "      <td>SA_REP</td>\n",
       "      <td>11500.0</td>\n",
       "      <td>0.25</td>\n",
       "      <td>Sales Representative</td>\n",
       "      <td>6000</td>\n",
       "      <td>12000</td>\n",
       "      <td>2875.0</td>\n",
       "    </tr>\n",
       "    <tr>\n",
       "      <th>74</th>\n",
       "      <td>Ellen</td>\n",
       "      <td>Abel</td>\n",
       "      <td>SA_REP</td>\n",
       "      <td>11000.0</td>\n",
       "      <td>0.30</td>\n",
       "      <td>Sales Representative</td>\n",
       "      <td>6000</td>\n",
       "      <td>12000</td>\n",
       "      <td>3300.0</td>\n",
       "    </tr>\n",
       "  </tbody>\n",
       "</table>\n",
       "</div>"
      ],
      "text/plain": [
       "   First_Name  Last_Name  Job_ID   Salary  Commission_PCT  \\\n",
       "45       John    Russell  SA_MAN  14000.0            0.40   \n",
       "46      Karen   Partners  SA_MAN  13500.0            0.30   \n",
       "47    Alberto  Errazuriz  SA_MAN  12000.0            0.30   \n",
       "48     Gerald  Cambrault  SA_MAN  11000.0            0.30   \n",
       "50      Peter     Tucker  SA_REP  10000.0            0.30   \n",
       "56    Janette       King  SA_REP  10000.0            0.35   \n",
       "57    Patrick      Sully  SA_REP   9500.0            0.35   \n",
       "58      Allan     McEwen  SA_REP   9000.0            0.35   \n",
       "68       Lisa       Ozer  SA_REP  11500.0            0.25   \n",
       "74      Ellen       Abel  SA_REP  11000.0            0.30   \n",
       "\n",
       "               Job_Title Min_Salary Max_Salary  Komisi  \n",
       "45         Sales Manager      10000      20000  5600.0  \n",
       "46         Sales Manager      10000      20000  4050.0  \n",
       "47         Sales Manager      10000      20000  3600.0  \n",
       "48         Sales Manager      10000      20000  3300.0  \n",
       "50  Sales Representative       6000      12000  3000.0  \n",
       "56  Sales Representative       6000      12000  3500.0  \n",
       "57  Sales Representative       6000      12000  3325.0  \n",
       "58  Sales Representative       6000      12000  3150.0  \n",
       "68  Sales Representative       6000      12000  2875.0  \n",
       "74  Sales Representative       6000      12000  3300.0  "
      ]
     },
     "execution_count": 15,
     "metadata": {},
     "output_type": "execute_result"
    }
   ],
   "source": [
    "q1 = tabel.describe()['Komisi']['25%']\n",
    "q3 = tabel.describe()['Komisi']['75%']\n",
    "iqr = q3-q1\n",
    "upper_f = q3 + (1.5 * iqr)\n",
    "lower_f = q1 - (1.5 * iqr)\n",
    "outliers = tabel[(tabel['Komisi'] < lower_f) | (tabel['Komisi'] > upper_f)]\n",
    "outliers"
   ]
  },
  {
   "cell_type": "code",
   "execution_count": 16,
   "id": "e6c504cf",
   "metadata": {},
   "outputs": [],
   "source": [
    "import matplotlib.pyplot as plt"
   ]
  },
  {
   "cell_type": "code",
   "execution_count": 17,
   "id": "27778951",
   "metadata": {},
   "outputs": [
    {
     "data": {
      "image/png": "[encoded data removed]",
      "text/plain": [
       "<Figure size 432x288 with 1 Axes>"
      ]
     },
     "metadata": {
      "needs_background": "light"
     },
     "output_type": "display_data"
    }
   ],
   "source": [
    "plt.boxplot(tabel['Komisi'])\n",
    "plt.show()"
   ]
  },
  {
   "cell_type": "markdown",
   "id": "a2e64030",
   "metadata": {},
   "source": [
    "banyak outliers ditemukan, dari sini outliers didapatkan dari data yang diambil dari komisi yang didapatkan oleh karyawan. Nilai outliers tertingginya 5600"
   ]
  },
  {
   "cell_type": "code",
   "execution_count": 18,
   "id": "d2e8c64a",
   "metadata": {},
   "outputs": [],
   "source": [
    "### menyimpan data ke csv\n",
    "\n",
    "tabel.to_csv('Data_HR.csv')"
   ]
  },
  {
   "cell_type": "markdown",
   "id": "605b2890",
   "metadata": {},
   "source": [
    "### Data Visualization"
   ]
  },
  {
   "cell_type": "markdown",
   "id": "33a0d20d",
   "metadata": {},
   "source": [
    "###### 1. Divisi apa yang mendapatkan Komisi Terbanyak?"
   ]
  },
  {
   "cell_type": "code",
   "execution_count": 19,
   "id": "bec0f6f6",
   "metadata": {},
   "outputs": [
    {
     "data": {
      "text/html": [
       "<div>\n",
       "<style scoped>\n",
       "    .dataframe tbody tr th:only-of-type {\n",
       "        vertical-align: middle;\n",
       "    }\n",
       "\n",
       "    .dataframe tbody tr th {\n",
       "        vertical-align: top;\n",
       "    }\n",
       "\n",
       "    .dataframe thead th {\n",
       "        text-align: right;\n",
       "    }\n",
       "</style>\n",
       "<table border=\"1\" class=\"dataframe\">\n",
       "  <thead>\n",
       "    <tr style=\"text-align: right;\">\n",
       "      <th>col_0</th>\n",
       "      <th>Total</th>\n",
       "    </tr>\n",
       "    <tr>\n",
       "      <th>Job_Title</th>\n",
       "      <th></th>\n",
       "    </tr>\n",
       "  </thead>\n",
       "  <tbody>\n",
       "    <tr>\n",
       "      <th>Sales Representative</th>\n",
       "      <td>55040.0</td>\n",
       "    </tr>\n",
       "    <tr>\n",
       "      <th>Sales Manager</th>\n",
       "      <td>18650.0</td>\n",
       "    </tr>\n",
       "    <tr>\n",
       "      <th>Accountant</th>\n",
       "      <td>0.0</td>\n",
       "    </tr>\n",
       "    <tr>\n",
       "      <th>Public Accountant</th>\n",
       "      <td>0.0</td>\n",
       "    </tr>\n",
       "    <tr>\n",
       "      <th>Stock Clerk</th>\n",
       "      <td>0.0</td>\n",
       "    </tr>\n",
       "    <tr>\n",
       "      <th>Shipping Clerk</th>\n",
       "      <td>0.0</td>\n",
       "    </tr>\n",
       "    <tr>\n",
       "      <th>Purchasing Manager</th>\n",
       "      <td>0.0</td>\n",
       "    </tr>\n",
       "    <tr>\n",
       "      <th>Purchasing Clerk</th>\n",
       "      <td>0.0</td>\n",
       "    </tr>\n",
       "    <tr>\n",
       "      <th>Public Relations Representative</th>\n",
       "      <td>0.0</td>\n",
       "    </tr>\n",
       "    <tr>\n",
       "      <th>Programmer</th>\n",
       "      <td>0.0</td>\n",
       "    </tr>\n",
       "    <tr>\n",
       "      <th>Accounting Manager</th>\n",
       "      <td>0.0</td>\n",
       "    </tr>\n",
       "    <tr>\n",
       "      <th>President</th>\n",
       "      <td>0.0</td>\n",
       "    </tr>\n",
       "    <tr>\n",
       "      <th>Marketing Representative</th>\n",
       "      <td>0.0</td>\n",
       "    </tr>\n",
       "    <tr>\n",
       "      <th>Marketing Manager</th>\n",
       "      <td>0.0</td>\n",
       "    </tr>\n",
       "    <tr>\n",
       "      <th>Human Resources Representative</th>\n",
       "      <td>0.0</td>\n",
       "    </tr>\n",
       "    <tr>\n",
       "      <th>Finance Manager</th>\n",
       "      <td>0.0</td>\n",
       "    </tr>\n",
       "    <tr>\n",
       "      <th>Administration Vice President</th>\n",
       "      <td>0.0</td>\n",
       "    </tr>\n",
       "    <tr>\n",
       "      <th>Administration Assistant</th>\n",
       "      <td>0.0</td>\n",
       "    </tr>\n",
       "    <tr>\n",
       "      <th>Stock Manager</th>\n",
       "      <td>0.0</td>\n",
       "    </tr>\n",
       "  </tbody>\n",
       "</table>\n",
       "</div>"
      ],
      "text/plain": [
       "col_0                              Total\n",
       "Job_Title                               \n",
       "Sales Representative             55040.0\n",
       "Sales Manager                    18650.0\n",
       "Accountant                           0.0\n",
       "Public Accountant                    0.0\n",
       "Stock Clerk                          0.0\n",
       "Shipping Clerk                       0.0\n",
       "Purchasing Manager                   0.0\n",
       "Purchasing Clerk                     0.0\n",
       "Public Relations Representative      0.0\n",
       "Programmer                           0.0\n",
       "Accounting Manager                   0.0\n",
       "President                            0.0\n",
       "Marketing Representative             0.0\n",
       "Marketing Manager                    0.0\n",
       "Human Resources Representative       0.0\n",
       "Finance Manager                      0.0\n",
       "Administration Vice President        0.0\n",
       "Administration Assistant             0.0\n",
       "Stock Manager                        0.0"
      ]
     },
     "execution_count": 19,
     "metadata": {},
     "output_type": "execute_result"
    }
   ],
   "source": [
    "pd.crosstab(index=tabel['Job_Title'], columns='Total', values=tabel['Komisi'], aggfunc='sum').sort_values('Total', ascending=False)"
   ]
  },
  {
   "cell_type": "code",
   "execution_count": 20,
   "id": "05bcfe1e",
   "metadata": {},
   "outputs": [
    {
     "data": {
      "text/html": [
       "<img src=\"komdis.jpeg\" width=\"400\" height=\"300\"/>"
      ],
      "text/plain": [
       "<IPython.core.display.Image object>"
      ]
     },
     "execution_count": 20,
     "metadata": {},
     "output_type": "execute_result"
    }
   ],
   "source": [
    "from IPython.display import Image\n",
    "Image(url=\"komdis.jpeg\", width=400, height=300)"
   ]
  },
  {
   "cell_type": "markdown",
   "id": "5949c60c",
   "metadata": {},
   "source": [
    "- `Insight` = Divisi yang mendapatkan total komisi terbanyak yaitu =\n",
    "1. Sales Representative dengan total Komisi = 55,040.0 \n",
    "2. Sales Manajer dengan total Komisi = 18,650\n",
    "\n",
    "`Rekomendasi` :\n",
    "\n",
    "Divisi sales representative dan sales manager telah mendapatkan komisi, sehingga target perusahaan terpenuhi, oleh karena itu untuk dua divisi tersebut di periode selanjutnya agar dinaikan lagi targetnya dengan diimbangi kenaikan komisi, supaya penjualan perusahaan dapat naik dan berkembang sehingga berdampak untuk kemajuan dari segi pendapatan perusahaan. Dan untuk divisi yang tidak mendapatkan komisi agar dilakukan evaluasi kembali kinerjanya yang berdampak pada pertumbuhan dan perkembangan perusahaan yang lebih maju.\n"
   ]
  },
  {
   "cell_type": "markdown",
   "id": "40d20f4d",
   "metadata": {},
   "source": [
    "###### 2. Siapa Karyawan Yang Mendapatkan Posisi Tiga Besar Dari Komisi Tertinggi?"
   ]
  },
  {
   "cell_type": "code",
   "execution_count": 21,
   "id": "0aed0973",
   "metadata": {
    "scrolled": true
   },
   "outputs": [
    {
     "data": {
      "text/html": [
       "<div>\n",
       "<style scoped>\n",
       "    .dataframe tbody tr th:only-of-type {\n",
       "        vertical-align: middle;\n",
       "    }\n",
       "\n",
       "    .dataframe tbody tr th {\n",
       "        vertical-align: top;\n",
       "    }\n",
       "\n",
       "    .dataframe thead th {\n",
       "        text-align: right;\n",
       "    }\n",
       "</style>\n",
       "<table border=\"1\" class=\"dataframe\">\n",
       "  <thead>\n",
       "    <tr style=\"text-align: right;\">\n",
       "      <th></th>\n",
       "      <th>index</th>\n",
       "      <th>First_Name</th>\n",
       "      <th>Last_Name</th>\n",
       "      <th>Salary</th>\n",
       "      <th>Commission_PCT</th>\n",
       "      <th>Komisi</th>\n",
       "      <th>Job_Title</th>\n",
       "    </tr>\n",
       "  </thead>\n",
       "  <tbody>\n",
       "    <tr>\n",
       "      <th>0</th>\n",
       "      <td>45</td>\n",
       "      <td>John</td>\n",
       "      <td>Russell</td>\n",
       "      <td>14000.0</td>\n",
       "      <td>0.4</td>\n",
       "      <td>5600.0</td>\n",
       "      <td>Sales Manager</td>\n",
       "    </tr>\n",
       "    <tr>\n",
       "      <th>1</th>\n",
       "      <td>56</td>\n",
       "      <td>Janette</td>\n",
       "      <td>King</td>\n",
       "      <td>10000.0</td>\n",
       "      <td>0.35</td>\n",
       "      <td>3500.0</td>\n",
       "      <td>Sales Representative</td>\n",
       "    </tr>\n",
       "    <tr>\n",
       "      <th>2</th>\n",
       "      <td>57</td>\n",
       "      <td>Patrick</td>\n",
       "      <td>Sully</td>\n",
       "      <td>9500.0</td>\n",
       "      <td>0.35</td>\n",
       "      <td>3325.0</td>\n",
       "      <td>Sales Representative</td>\n",
       "    </tr>\n",
       "    <tr>\n",
       "      <th>3</th>\n",
       "      <td>58</td>\n",
       "      <td>Allan</td>\n",
       "      <td>McEwen</td>\n",
       "      <td>9000.0</td>\n",
       "      <td>0.35</td>\n",
       "      <td>3150.0</td>\n",
       "      <td>Sales Representative</td>\n",
       "    </tr>\n",
       "    <tr>\n",
       "      <th>4</th>\n",
       "      <td>46</td>\n",
       "      <td>Karen</td>\n",
       "      <td>Partners</td>\n",
       "      <td>13500.0</td>\n",
       "      <td>0.3</td>\n",
       "      <td>4050.0</td>\n",
       "      <td>Sales Manager</td>\n",
       "    </tr>\n",
       "    <tr>\n",
       "      <th>5</th>\n",
       "      <td>47</td>\n",
       "      <td>Alberto</td>\n",
       "      <td>Errazuriz</td>\n",
       "      <td>12000.0</td>\n",
       "      <td>0.3</td>\n",
       "      <td>3600.0</td>\n",
       "      <td>Sales Manager</td>\n",
       "    </tr>\n",
       "    <tr>\n",
       "      <th>6</th>\n",
       "      <td>48</td>\n",
       "      <td>Gerald</td>\n",
       "      <td>Cambrault</td>\n",
       "      <td>11000.0</td>\n",
       "      <td>0.3</td>\n",
       "      <td>3300.0</td>\n",
       "      <td>Sales Manager</td>\n",
       "    </tr>\n",
       "    <tr>\n",
       "      <th>7</th>\n",
       "      <td>74</td>\n",
       "      <td>Ellen</td>\n",
       "      <td>Abel</td>\n",
       "      <td>11000.0</td>\n",
       "      <td>0.3</td>\n",
       "      <td>3300.0</td>\n",
       "      <td>Sales Representative</td>\n",
       "    </tr>\n",
       "    <tr>\n",
       "      <th>8</th>\n",
       "      <td>50</td>\n",
       "      <td>Peter</td>\n",
       "      <td>Tucker</td>\n",
       "      <td>10000.0</td>\n",
       "      <td>0.3</td>\n",
       "      <td>3000.0</td>\n",
       "      <td>Sales Representative</td>\n",
       "    </tr>\n",
       "    <tr>\n",
       "      <th>9</th>\n",
       "      <td>59</td>\n",
       "      <td>Lindsey</td>\n",
       "      <td>Smith</td>\n",
       "      <td>8000.0</td>\n",
       "      <td>0.3</td>\n",
       "      <td>2400.0</td>\n",
       "      <td>Sales Representative</td>\n",
       "    </tr>\n",
       "  </tbody>\n",
       "</table>\n",
       "</div>"
      ],
      "text/plain": [
       "   index First_Name  Last_Name   Salary Commission_PCT  Komisi  \\\n",
       "0     45       John    Russell  14000.0            0.4  5600.0   \n",
       "1     56    Janette       King  10000.0           0.35  3500.0   \n",
       "2     57    Patrick      Sully   9500.0           0.35  3325.0   \n",
       "3     58      Allan     McEwen   9000.0           0.35  3150.0   \n",
       "4     46      Karen   Partners  13500.0            0.3  4050.0   \n",
       "5     47    Alberto  Errazuriz  12000.0            0.3  3600.0   \n",
       "6     48     Gerald  Cambrault  11000.0            0.3  3300.0   \n",
       "7     74      Ellen       Abel  11000.0            0.3  3300.0   \n",
       "8     50      Peter     Tucker  10000.0            0.3  3000.0   \n",
       "9     59    Lindsey      Smith   8000.0            0.3  2400.0   \n",
       "\n",
       "              Job_Title  \n",
       "0         Sales Manager  \n",
       "1  Sales Representative  \n",
       "2  Sales Representative  \n",
       "3  Sales Representative  \n",
       "4         Sales Manager  \n",
       "5         Sales Manager  \n",
       "6         Sales Manager  \n",
       "7  Sales Representative  \n",
       "8  Sales Representative  \n",
       "9  Sales Representative  "
      ]
     },
     "execution_count": 21,
     "metadata": {},
     "output_type": "execute_result"
    }
   ],
   "source": [
    "Komisi = pd.DataFrame([tabel['First_Name'],tabel['Last_Name'], tabel['Salary'],tabel['Commission_PCT'] ,tabel['Komisi'], tabel['Job_Title']]).T.sort_values(['Commission_PCT', 'Komisi'], ascending=False).reset_index().head(10)\n",
    "Komisi"
   ]
  },
  {
   "cell_type": "code",
   "execution_count": 22,
   "id": "987493e9",
   "metadata": {},
   "outputs": [
    {
     "data": {
      "text/html": [
       "<img src=\"gam2.jpeg\" width=\"500\" height=\"500\"/>"
      ],
      "text/plain": [
       "<IPython.core.display.Image object>"
      ]
     },
     "execution_count": 22,
     "metadata": {},
     "output_type": "execute_result"
    }
   ],
   "source": [
    "Image(url=\"gam2.jpeg\", width=500, height=500)"
   ]
  },
  {
   "cell_type": "markdown",
   "id": "3d27ec06",
   "metadata": {},
   "source": [
    "- ` insight` : Karyawan / employee yang mendapatkan peringkat tiga dari komisi tertinggi adalah\n",
    "1. John Russel dari divisi Sales Manager\n",
    "2. Janette King dari divisi Sales Representative\n",
    "3. Patric Sully dari divisi Sales Representative\n",
    "\n",
    "- `rekomendasi` :\n",
    "\n",
    "1. karyawan yang mendapatkan komisi tertinggi dari masing-masing divisi bisa dievaluasi untuk dijadikan seperti group leader agar divisinya semakin berkembang / kualitas SDMnya merata yang dapat berpengaruh ke pertumbuhan keuangan perusahaan.\n",
    "2. divisi Sales Representative adalah sales yang ditunjuk disuatu wilayah yang mana ditempat tersebut perusahaan tidak ada kegiatan produksi / hanya memasarkan produk dari perusahaan saja, apabila perusahaan ingin memperluas pasarnya di wilayah baru yang mana hanya ada kegiatan penjualan produk saja, maka nama-nama dari karyawan yang mendapatkan bonus tertinggi dikirim untuk dijadikan leader di wilayah baru tersebut."
   ]
  },
  {
   "cell_type": "code",
   "execution_count": 23,
   "id": "733584a2",
   "metadata": {},
   "outputs": [],
   "source": [
    "tabel.to_csv('Data_HR_fix.csv')"
   ]
  },
  {
   "cell_type": "markdown",
   "id": "b213d0cd",
   "metadata": {},
   "source": [
    "###### 3. Bagaimana Korelasi Antara Salary (gaji), Commission_PCT, dan Komisi?"
   ]
  },
  {
   "cell_type": "code",
   "execution_count": 24,
   "id": "353198a5",
   "metadata": {
    "scrolled": true
   },
   "outputs": [
    {
     "data": {
      "text/html": [
       "<div>\n",
       "<style scoped>\n",
       "    .dataframe tbody tr th:only-of-type {\n",
       "        vertical-align: middle;\n",
       "    }\n",
       "\n",
       "    .dataframe tbody tr th {\n",
       "        vertical-align: top;\n",
       "    }\n",
       "\n",
       "    .dataframe thead th {\n",
       "        text-align: right;\n",
       "    }\n",
       "</style>\n",
       "<table border=\"1\" class=\"dataframe\">\n",
       "  <thead>\n",
       "    <tr style=\"text-align: right;\">\n",
       "      <th></th>\n",
       "      <th>Salary</th>\n",
       "      <th>Commission_PCT</th>\n",
       "      <th>Komisi</th>\n",
       "    </tr>\n",
       "  </thead>\n",
       "  <tbody>\n",
       "    <tr>\n",
       "      <th>Salary</th>\n",
       "      <td>1.000000</td>\n",
       "      <td>0.486179</td>\n",
       "      <td>0.510374</td>\n",
       "    </tr>\n",
       "    <tr>\n",
       "      <th>Commission_PCT</th>\n",
       "      <td>0.486179</td>\n",
       "      <td>1.000000</td>\n",
       "      <td>0.972791</td>\n",
       "    </tr>\n",
       "    <tr>\n",
       "      <th>Komisi</th>\n",
       "      <td>0.510374</td>\n",
       "      <td>0.972791</td>\n",
       "      <td>1.000000</td>\n",
       "    </tr>\n",
       "  </tbody>\n",
       "</table>\n",
       "</div>"
      ],
      "text/plain": [
       "                  Salary  Commission_PCT    Komisi\n",
       "Salary          1.000000        0.486179  0.510374\n",
       "Commission_PCT  0.486179        1.000000  0.972791\n",
       "Komisi          0.510374        0.972791  1.000000"
      ]
     },
     "execution_count": 24,
     "metadata": {},
     "output_type": "execute_result"
    }
   ],
   "source": [
    "tabel.corr()"
   ]
  },
  {
   "cell_type": "code",
   "execution_count": 25,
   "id": "24b4c9d8",
   "metadata": {},
   "outputs": [],
   "source": [
    "import seaborn as sns"
   ]
  },
  {
   "cell_type": "code",
   "execution_count": 26,
   "id": "4f484909",
   "metadata": {
    "scrolled": true
   },
   "outputs": [
    {
     "data": {
      "image/png": "[encoded data removed]",
      "text/plain": [
       "<Figure size 432x360 with 2 Axes>"
      ]
     },
     "metadata": {
      "needs_background": "light"
     },
     "output_type": "display_data"
    }
   ],
   "source": [
    "plt.figure(figsize=(6,5))\n",
    "sns.heatmap(tabel.corr(), annot=True, cmap='binary', linewidth=2, linecolor='red')\n",
    "plt.show()"
   ]
  },
  {
   "cell_type": "markdown",
   "id": "c4cb3c39",
   "metadata": {},
   "source": [
    "- `Insight` \n",
    "\n",
    "1. Korelasi antara Salary dengan Persentase Komisi (Commission_PCT) yaitu 0.49 = berkorelasi positif\n",
    "2. Korelasi antara Salary dengan Komisi yaitu 0.51 = berkorelasi positif\n",
    "3. Korelasi Komisi dan Presentase Komisi (Commission_PCT) yaitu 0.97 = berkorelasi positif dan kuat\n"
   ]
  },
  {
   "cell_type": "markdown",
   "id": "e24e265b",
   "metadata": {},
   "source": [
    "###### 4. Uji Hipotesis"
   ]
  },
  {
   "cell_type": "code",
   "execution_count": 27,
   "id": "d2035f04",
   "metadata": {},
   "outputs": [],
   "source": [
    "from scipy.stats import shapiro"
   ]
  },
  {
   "cell_type": "code",
   "execution_count": 28,
   "id": "fed7c121",
   "metadata": {
    "scrolled": true
   },
   "outputs": [
    {
     "name": "stdout",
     "output_type": "stream",
     "text": [
      "Tolak H0 Karena P-Value (1.2005068265169821e-14 < 5%)\n",
      "DISTRIBUSI TIDAK NORMAL\n"
     ]
    }
   ],
   "source": [
    "norm, pval = shapiro(tabel['Komisi'])\n",
    "\n",
    "if pval < 0.05 :\n",
    "    print (f'Tolak H0 Karena P-Value ({pval} < 5%)')\n",
    "    print ('DISTRIBUSI TIDAK NORMAL')\n",
    "else :\n",
    "    print (f'Gagal Tolak H0 Karena P-Value ({pval} > 5%)')\n",
    "    print ('DISTRIBUSI NORMAL')"
   ]
  },
  {
   "cell_type": "markdown",
   "id": "c507334a",
   "metadata": {},
   "source": [
    "### mann whitneyu\n",
    "\n",
    "uji hipotesis median dari salary, job_title : sales manager dan sales representative"
   ]
  },
  {
   "cell_type": "code",
   "execution_count": 29,
   "id": "e071b2ca",
   "metadata": {},
   "outputs": [
    {
     "name": "stdout",
     "output_type": "stream",
     "text": [
      "Tolak H0 Karena P-Value (0.0008759786723532222 < 5%)\n",
      "Terdapat Perbedaan Nilai Median Salary Antara Sales Manager dan Sales Representative\n"
     ]
    }
   ],
   "source": [
    "from scipy.stats import mannwhitneyu\n",
    "mann, pval = mannwhitneyu(\n",
    "    tabel[tabel['Job_Title'] == 'Sales Representative']['Salary'],\n",
    "    tabel[tabel['Job_Title'] == 'Sales Manager']['Salary']\n",
    ") \n",
    "\n",
    "if pval < 0.05 :\n",
    "    print (f'Tolak H0 Karena P-Value ({pval} < 5%)')\n",
    "    print ('Terdapat Perbedaan Nilai Median Salary Antara Sales Manager dan Sales Representative')\n",
    "else :\n",
    "    print (f'Gagal Tolak H0 Karena P-Value ({pval} > 5%)')\n",
    "    print ('Tidak Terdapat Perbedaan Nilai Median Salary Antara Sales Manager dan Sales Representative')"
   ]
  },
  {
   "cell_type": "markdown",
   "id": "461cd568",
   "metadata": {},
   "source": [
    "karena salary tidak terdistribusi normal, sehingga saya menggunakan uji non parametrik, dan menggunakan mann whitneyu.\n",
    "\n",
    "berdasarkan dari hasil uji non parametrik hasilnya tolak H0 karena p value kurang daru 5% dan terdapat Perbedaan Nilai Median Salary Antara Sales Manager dan Sales Representative"
   ]
  }
 ],
 "metadata": {
  "kernelspec": {
   "display_name": "Python 3 (ipykernel)",
   "language": "python",
   "name": "python3"
  },
  "language_info": {
   "codemirror_mode": {
    "name": "ipython",
    "version": 3
   },
   "file_extension": ".py",
   "mimetype": "text/x-python",
   "name": "python",
   "nbconvert_exporter": "python",
   "pygments_lexer": "ipython3",
   "version": "3.9.7"
  }
 },
 "nbformat": 4,
 "nbformat_minor": 5
}
